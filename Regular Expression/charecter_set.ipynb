{
 "cells": [
  {
   "cell_type": "markdown",
   "metadata": {
    "collapsed": true
   },
   "source": [
    "### Charecter set can match a set of charecter"
   ]
  },
  {
   "cell_type": "code",
   "execution_count": 2,
   "metadata": {},
   "outputs": [],
   "source": [
    "import re "
   ]
  },
  {
   "cell_type": "code",
   "execution_count": 6,
   "metadata": {},
   "outputs": [
    {
     "data": {
      "text/plain": [
       "<re.Match object; span=(5, 9), match='conf'>"
      ]
     },
     "execution_count": 6,
     "metadata": {},
     "output_type": "execute_result"
    }
   ],
   "source": [
    "# '\\w' represent numbers of words charecter before special charecter match \n",
    "re.search(r'\\w\\w\\w\\w', 'i am confused! are you?')"
   ]
  },
  {
   "cell_type": "code",
   "execution_count": 9,
   "metadata": {},
   "outputs": [],
   "source": [
    "re.search(r'\\w\\w\\w\\w', 'are you?') # Returns nothing because before '?' there is no four charecter word"
   ]
  },
  {
   "cell_type": "code",
   "execution_count": 18,
   "metadata": {},
   "outputs": [
    {
     "data": {
      "text/plain": [
       "'a32'"
      ]
     },
     "execution_count": 18,
     "metadata": {},
     "output_type": "execute_result"
    }
   ],
   "source": [
    "re.search(r'\\w\\w\\w', \"a32.-_!\").group() # show result"
   ]
  },
  {
   "cell_type": "code",
   "execution_count": 19,
   "metadata": {},
   "outputs": [
    {
     "ename": "AttributeError",
     "evalue": "'NoneType' object has no attribute 'group'",
     "output_type": "error",
     "traceback": [
      "\u001B[1;31m---------------------------------------------------------------------------\u001B[0m",
      "\u001B[1;31mAttributeError\u001B[0m                            Traceback (most recent call last)",
      "\u001B[1;32m<ipython-input-19-bfce6d90b577>\u001B[0m in \u001B[0;36m<module>\u001B[1;34m\u001B[0m\n\u001B[1;32m----> 1\u001B[1;33m \u001B[0mre\u001B[0m\u001B[1;33m.\u001B[0m\u001B[0msearch\u001B[0m\u001B[1;33m(\u001B[0m\u001B[1;34mr'\\w\\w\\w'\u001B[0m\u001B[1;33m,\u001B[0m \u001B[1;34m\"a3 .-_!\"\u001B[0m\u001B[1;33m)\u001B[0m\u001B[1;33m.\u001B[0m\u001B[0mgroup\u001B[0m\u001B[1;33m(\u001B[0m\u001B[1;33m)\u001B[0m \u001B[1;31m# Match with empty space\u001B[0m\u001B[1;33m\u001B[0m\u001B[1;33m\u001B[0m\u001B[0m\n\u001B[0m",
      "\u001B[1;31mAttributeError\u001B[0m: 'NoneType' object has no attribute 'group'"
     ]
    }
   ],
   "source": [
    "re.search(r'\\w\\w\\w', \"a3 .-_!\").group() # Match with empty space"
   ]
  },
  {
   "cell_type": "markdown",
   "metadata": {},
   "source": [
    "### Quantifiers "
   ]
  },
  {
   "cell_type": "raw",
   "metadata": {},
   "source": [
    "# Syntex descriptions\n",
    "'+' = 1 or more\n",
    "'?' = 0 or 1 \n",
    "'*' = 0 or more \n",
    "'{n,m}' = n to m repetitions \n",
    "    {,3} =  Any number up to 3\n",
    "    {3,} = 3 to any numbers "
   ]
  },
  {
   "cell_type": "code",
   "execution_count": 28,
   "metadata": {},
   "outputs": [
    {
     "data": {
      "text/plain": [
       "'anything'"
      ]
     },
     "execution_count": 28,
     "metadata": {},
     "output_type": "execute_result"
    }
   ],
   "source": [
    "re.search(r'\\w+', 'anything you want').group() # Return all charecter before first space"
   ]
  },
  {
   "cell_type": "code",
   "execution_count": 33,
   "metadata": {},
   "outputs": [
    {
     "data": {
      "text/plain": [
       "'anything you'"
      ]
     },
     "execution_count": 33,
     "metadata": {},
     "output_type": "execute_result"
    }
   ],
   "source": [
    "re.search(r'\\w+\\W+\\w+', 'anything you want').group()"
   ]
  },
  {
   "cell_type": "code",
   "execution_count": 34,
   "metadata": {},
   "outputs": [
    {
     "data": {
      "text/plain": [
       "'anything you'"
      ]
     },
     "execution_count": 34,
     "metadata": {},
     "output_type": "execute_result"
    }
   ],
   "source": [
    "re.search(r'\\w+\\W?\\w+', 'anything you want').group()"
   ]
  },
  {
   "cell_type": "code",
   "execution_count": 38,
   "metadata": {},
   "outputs": [
    {
     "data": {
      "text/plain": [
       "'aaa'"
      ]
     },
     "execution_count": 38,
     "metadata": {},
     "output_type": "execute_result"
    }
   ],
   "source": [
    "re.search(r'\\w{3}', 'aaaaaaaaaaaa').group()"
   ]
  },
  {
   "cell_type": "code",
   "execution_count": 41,
   "metadata": {},
   "outputs": [
    {
     "data": {
      "text/plain": [
       "'abc'"
      ]
     },
     "execution_count": 41,
     "metadata": {},
     "output_type": "execute_result"
    }
   ],
   "source": [
    "re.search(r'\\w{,3}', 'abcdefghijk').group()"
   ]
  },
  {
   "cell_type": "code",
   "execution_count": 42,
   "metadata": {},
   "outputs": [
    {
     "data": {
      "text/plain": [
       "'abcdefghijk'"
      ]
     },
     "execution_count": 42,
     "metadata": {},
     "output_type": "execute_result"
    }
   ],
   "source": [
    "re.search(r'\\w{5,}', 'abcdefghijk').group()"
   ]
  },
  {
   "cell_type": "markdown",
   "metadata": {},
   "source": [
    "### Digits"
   ]
  },
  {
   "cell_type": "raw",
   "metadata": {},
   "source": [
    "'\\d' = Matches digits [0-9]\n",
    "'\\D' = Matches any non degit charecters"
   ]
  },
  {
   "cell_type": "code",
   "execution_count": 56,
   "metadata": {},
   "outputs": [
    {
     "data": {
      "text/plain": [
       "'2'"
      ]
     },
     "execution_count": 56,
     "metadata": {},
     "output_type": "execute_result"
    }
   ],
   "source": [
    "text = 'Year 2020 Month Dec day 08'\n",
    "re.search('\\d', text).group() # Return 1st digit"
   ]
  },
  {
   "cell_type": "code",
   "execution_count": 57,
   "metadata": {},
   "outputs": [
    {
     "data": {
      "text/plain": [
       "'2020'"
      ]
     },
     "execution_count": 57,
     "metadata": {},
     "output_type": "execute_result"
    }
   ],
   "source": [
    "re.search('\\d+', text).group() # Return 1st full digit"
   ]
  },
  {
   "cell_type": "code",
   "execution_count": 58,
   "metadata": {},
   "outputs": [
    {
     "data": {
      "text/plain": [
       "'Y'"
      ]
     },
     "execution_count": 58,
     "metadata": {},
     "output_type": "execute_result"
    }
   ],
   "source": [
    "re.search('\\D', text).group() # Return first charecter without digits "
   ]
  },
  {
   "cell_type": "code",
   "execution_count": 59,
   "metadata": {},
   "outputs": [
    {
     "data": {
      "text/plain": [
       "'Year '"
      ]
     },
     "execution_count": 59,
     "metadata": {},
     "output_type": "execute_result"
    }
   ],
   "source": [
    "re.search('\\D+', text).group() # Return  charecter without digits "
   ]
  },
  {
   "cell_type": "markdown",
   "metadata": {},
   "source": [
    "### White Spaces"
   ]
  },
  {
   "cell_type": "raw",
   "metadata": {},
   "source": [
    "'\\s' = Matches any whitespace charecter (New lines, space, Tabs etc)\n",
    "'\\S' = Matches any non-whitespace charecter "
   ]
  },
  {
   "cell_type": "code",
   "execution_count": 61,
   "metadata": {},
   "outputs": [],
   "source": [
    "text = 'Year 2020 Month Dec day 08 ++'"
   ]
  },
  {
   "cell_type": "code",
   "execution_count": 65,
   "metadata": {},
   "outputs": [
    {
     "data": {
      "text/plain": [
       "1"
      ]
     },
     "execution_count": 65,
     "metadata": {},
     "output_type": "execute_result"
    }
   ],
   "source": [
    "len(re.search('\\s+', text).group())"
   ]
  },
  {
   "cell_type": "code",
   "execution_count": 67,
   "metadata": {},
   "outputs": [
    {
     "data": {
      "text/plain": [
       "'Year'"
      ]
     },
     "execution_count": 67,
     "metadata": {},
     "output_type": "execute_result"
    }
   ],
   "source": [
    "re.search('\\S+', text).group()"
   ]
  },
  {
   "cell_type": "code",
   "execution_count": 72,
   "metadata": {},
   "outputs": [],
   "source": [
    "str = \"\"\"The fishermen, who started from Cox's Bazar \n",
    "\n",
    "on November 15, were stranded in the sea as their boat \"Rana\" developed a technical glitch.\n",
    "\n",
    "They were extremely \n",
    "exhausted and had no food left on board. \n",
    "\n",
    "They were provided with first aid, food and water by the Indian Coast Guard. \"\"\""
   ]
  },
  {
   "cell_type": "code",
   "execution_count": 73,
   "metadata": {},
   "outputs": [
    {
     "data": {
      "text/plain": [
       "['The',\n",
       " 'fishermen,',\n",
       " 'who',\n",
       " 'started',\n",
       " 'from',\n",
       " \"Cox's\",\n",
       " 'Bazar',\n",
       " 'on',\n",
       " 'November',\n",
       " '15,',\n",
       " 'were',\n",
       " 'stranded',\n",
       " 'in',\n",
       " 'the',\n",
       " 'sea',\n",
       " 'as',\n",
       " 'their',\n",
       " 'boat',\n",
       " '\"Rana\"',\n",
       " 'developed',\n",
       " 'a',\n",
       " 'technical',\n",
       " 'glitch.',\n",
       " 'They',\n",
       " 'were',\n",
       " 'extremely',\n",
       " 'exhausted',\n",
       " 'and',\n",
       " 'had',\n",
       " 'no',\n",
       " 'food',\n",
       " 'left',\n",
       " 'on',\n",
       " 'board.',\n",
       " 'They',\n",
       " 'were',\n",
       " 'provided',\n",
       " 'with',\n",
       " 'first',\n",
       " 'aid,',\n",
       " 'food',\n",
       " 'and',\n",
       " 'water',\n",
       " 'by',\n",
       " 'the',\n",
       " 'Indian',\n",
       " 'Coast',\n",
       " 'Guard.']"
      ]
     },
     "execution_count": 73,
     "metadata": {},
     "output_type": "execute_result"
    }
   ],
   "source": [
    "re.findall('\\S+', str)"
   ]
  },
  {
   "cell_type": "code",
   "execution_count": 77,
   "metadata": {},
   "outputs": [
    {
     "data": {
      "text/plain": [
       "'The fishermen, who started from Cox\\'s Bazar on November 15, were stranded in the sea as their boat \"Rana\" developed a technical glitch. They were extremely exhausted and had no food left on board. They were provided with first aid, food and water by the Indian Coast Guard.'"
      ]
     },
     "execution_count": 77,
     "metadata": {},
     "output_type": "execute_result"
    }
   ],
   "source": [
    "# Remove all extra white space and join them to make clear sentence\n",
    "remove_ws_and_joins_str = ' '.join(re.findall('\\S+', str)) \n",
    "remove_ws_and_joins_str"
   ]
  },
  {
   "cell_type": "markdown",
   "metadata": {},
   "source": [
    " # Dot(.)\n",
    "Matches any charecter sxcept newline"
   ]
  },
  {
   "cell_type": "code",
   "execution_count": 78,
   "metadata": {},
   "outputs": [
    {
     "data": {
      "text/plain": [
       "'The fishermen, who started from Cox\\'s Bazar \\n\\non November 15, were stranded in the sea as their boat \"Rana\" developed a technical glitch.\\n\\nThey were extremely \\nexhausted and had no food left on board. \\n\\nThey were provided with first aid, food and water by the Indian Coast Guard. '"
      ]
     },
     "execution_count": 78,
     "metadata": {},
     "output_type": "execute_result"
    }
   ],
   "source": [
    "re.search('.+', str, flags=re.DOTALL).group()"
   ]
  },
  {
   "cell_type": "code",
   "execution_count": null,
   "metadata": {},
   "outputs": [],
   "source": []
  }
 ],
 "metadata": {
  "kernelspec": {
   "display_name": "Python 3",
   "language": "python",
   "name": "python3"
  },
  "language_info": {
   "codemirror_mode": {
    "name": "ipython",
    "version": 3
   },
   "file_extension": ".py",
   "mimetype": "text/x-python",
   "name": "python",
   "nbconvert_exporter": "python",
   "pygments_lexer": "ipython3",
   "version": "3.8.3"
  }
 },
 "nbformat": 4,
 "nbformat_minor": 1
}