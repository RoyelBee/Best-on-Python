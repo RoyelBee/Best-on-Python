{
 "cells": [
  {
   "cell_type": "code",
   "execution_count": 0,
   "metadata": {
    "collapsed": true
   },
   "outputs": [],
   "source": [
    "import pandas as pd \n",
    "import pyodbc as db \n",
    "connection = db.connect('DRIVER={SQL Server};'\n",
    "                        'SERVER=137.116.139.217;'\n",
    "                        'DATABASE=ARCHIVESKF;'\n",
    "                        'UID=sa;PWD=erp@123')\n",
    "\n",
    "data = pd.read_sql_query(\"\"\"select top 1000 from oesales \"\"\")"
   ]
  }
 ],
 "metadata": {
  "kernelspec": {
   "display_name": "Python 3",
   "language": "python",
   "name": "python3"
  },
  "language_info": {
   "codemirror_mode": {
    "name": "ipython",
    "version": 3
   },
   "file_extension": ".py",
   "mimetype": "text/x-python",
   "name": "python",
   "nbconvert_exporter": "python",
   "pygments_lexer": "ipython3",
   "version": "3.7.4"
  }
 },
 "nbformat": 4,
 "nbformat_minor": 1
}
